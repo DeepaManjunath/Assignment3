{
  "nbformat": 4,
  "nbformat_minor": 0,
  "metadata": {
    "colab": {
      "name": "Copy of assignment3_new.ipynb",
      "provenance": [],
      "include_colab_link": true
    },
    "kernelspec": {
      "name": "python3",
      "display_name": "Python 3"
    },
    "accelerator": "GPU"
  },
  "cells": [
    {
      "cell_type": "markdown",
      "metadata": {
        "id": "view-in-github",
        "colab_type": "text"
      },
      "source": [
        "<a href=\"https://colab.research.google.com/github/DeepaManjunath/Assignment3/blob/master/Copy_of_assignment3_new.ipynb\" target=\"_parent\"><img src=\"https://colab.research.google.com/assets/colab-badge.svg\" alt=\"Open In Colab\"/></a>"
      ]
    },
    {
      "cell_type": "code",
      "metadata": {
        "id": "BJssljwgc2y3",
        "colab_type": "code",
        "colab": {}
      },
      "source": [
        ""
      ],
      "execution_count": 0,
      "outputs": []
    },
    {
      "cell_type": "code",
      "metadata": {
        "id": "oKdH610Me7qc",
        "colab_type": "code",
        "colab": {}
      },
      "source": [
        ""
      ],
      "execution_count": 0,
      "outputs": []
    },
    {
      "cell_type": "markdown",
      "metadata": {
        "id": "7yUh7UJ8e8Lq",
        "colab_type": "text"
      },
      "source": [
        ""
      ]
    },
    {
      "cell_type": "code",
      "metadata": {
        "id": "ro_UpH5Se9Eh",
        "colab_type": "code",
        "colab": {}
      },
      "source": [
        ""
      ],
      "execution_count": 0,
      "outputs": []
    },
    {
      "cell_type": "code",
      "metadata": {
        "id": "m0sw0oskB_yD",
        "colab_type": "code",
        "colab": {}
      },
      "source": [
        ""
      ],
      "execution_count": 0,
      "outputs": []
    },
    {
      "cell_type": "markdown",
      "metadata": {
        "id": "HOWwHcp0CAOM",
        "colab_type": "text"
      },
      "source": [
        ""
      ]
    },
    {
      "cell_type": "code",
      "metadata": {
        "id": "Hd7FHJaJCW5B",
        "colab_type": "code",
        "colab": {}
      },
      "source": [
        ""
      ],
      "execution_count": 0,
      "outputs": []
    },
    {
      "cell_type": "code",
      "metadata": {
        "id": "azfIcudPIY3J",
        "colab_type": "code",
        "colab": {}
      },
      "source": [
        ""
      ],
      "execution_count": 0,
      "outputs": []
    },
    {
      "cell_type": "code",
      "metadata": {
        "id": "px_baMsPFvCE",
        "colab_type": "code",
        "colab": {}
      },
      "source": [
        ""
      ],
      "execution_count": 0,
      "outputs": []
    },
    {
      "cell_type": "code",
      "metadata": {
        "id": "ZSZ6hHK9cGNi",
        "colab_type": "code",
        "colab": {}
      },
      "source": [
        ""
      ],
      "execution_count": 0,
      "outputs": []
    },
    {
      "cell_type": "code",
      "metadata": {
        "id": "QQExLMecKg3Q",
        "colab_type": "code",
        "colab": {}
      },
      "source": [
        ""
      ],
      "execution_count": 0,
      "outputs": []
    },
    {
      "cell_type": "code",
      "metadata": {
        "id": "hWPSlkCQAGkU",
        "colab_type": "code",
        "colab": {}
      },
      "source": [
        ""
      ],
      "execution_count": 0,
      "outputs": []
    },
    {
      "cell_type": "code",
      "metadata": {
        "id": "0falT0RCzsvL",
        "colab_type": "code",
        "colab": {}
      },
      "source": [
        ""
      ],
      "execution_count": 0,
      "outputs": []
    },
    {
      "cell_type": "code",
      "metadata": {
        "id": "KkwXnw9OfHZl",
        "colab_type": "code",
        "outputId": "25ce6063-7a53-401a-ca28-172862be8cea",
        "colab": {
          "base_uri": "https://localhost:8080/",
          "height": 81
        }
      },
      "source": [
        "from keras import backend as K\n",
        "import time\n",
        "import matplotlib.pyplot as plt\n",
        "import numpy as np\n",
        "%matplotlib inline\n",
        "np.random.seed(2017) \n",
        "from keras.models import Sequential\n",
        "from keras.layers.convolutional import Convolution2D, MaxPooling2D\n",
        "from keras.layers import Activation, Flatten, Dense, Dropout,SeparableConv2D,GlobalAveragePooling2D\n",
        "from keras.layers.normalization import BatchNormalization\n",
        "from keras.utils import np_utils"
      ],
      "execution_count": 0,
      "outputs": [
        {
          "output_type": "stream",
          "text": [
            "Using TensorFlow backend.\n"
          ],
          "name": "stderr"
        },
        {
          "output_type": "display_data",
          "data": {
            "text/html": [
              "<p style=\"color: red;\">\n",
              "The default version of TensorFlow in Colab will soon switch to TensorFlow 2.x.<br>\n",
              "We recommend you <a href=\"https://www.tensorflow.org/guide/migrate\" target=\"_blank\">upgrade</a> now \n",
              "or ensure your notebook will continue to use TensorFlow 1.x via the <code>%tensorflow_version 1.x</code> magic:\n",
              "<a href=\"https://colab.research.google.com/notebooks/tensorflow_version.ipynb\" target=\"_blank\">more info</a>.</p>\n"
            ],
            "text/plain": [
              "<IPython.core.display.HTML object>"
            ]
          },
          "metadata": {
            "tags": []
          }
        }
      ]
    },
    {
      "cell_type": "code",
      "metadata": {
        "id": "NHpnoCHZfO8g",
        "colab_type": "code",
        "outputId": "d911da0d-5a6c-463c-eaa5-26d70e9700c5",
        "colab": {
          "base_uri": "https://localhost:8080/",
          "height": 52
        }
      },
      "source": [
        "from keras.datasets import cifar10\n",
        "(train_features, train_labels), (test_features, test_labels) = cifar10.load_data()\n",
        "num_train, img_channels, img_rows, img_cols =  train_features.shape\n",
        "num_test, _, _, _ =  test_features.shape\n",
        "num_classes = len(np.unique(train_labels))"
      ],
      "execution_count": 0,
      "outputs": [
        {
          "output_type": "stream",
          "text": [
            "Downloading data from https://www.cs.toronto.edu/~kriz/cifar-10-python.tar.gz\n",
            "170500096/170498071 [==============================] - 6s 0us/step\n"
          ],
          "name": "stdout"
        }
      ]
    },
    {
      "cell_type": "code",
      "metadata": {
        "id": "14HyBUXdfS6G",
        "colab_type": "code",
        "outputId": "82e3b1b4-8699-4c43-99a7-3d483a8979cb",
        "colab": {
          "base_uri": "https://localhost:8080/",
          "height": 231
        }
      },
      "source": [
        "class_names = ['airplane','automobile','bird','cat','deer',\n",
        "               'dog','frog','horse','ship','truck']\n",
        "print(num_classes)\n",
        "fig = plt.figure(figsize=(8,3))\n",
        "for i in range(num_classes):\n",
        "    ax = fig.add_subplot(2, 5, 1 + i, xticks=[], yticks=[])\n",
        "    idx = np.where(train_labels[:]==i)[0]\n",
        "    features_idx = train_features[idx,::]\n",
        "    img_num = np.random.randint(features_idx.shape[0])\n",
        "    im = features_idx[img_num]\n",
        "    ax.set_title(class_names[i])\n",
        "    plt.imshow(im)\n",
        "plt.show()\n"
      ],
      "execution_count": 0,
      "outputs": [
        {
          "output_type": "stream",
          "text": [
            "10\n"
          ],
          "name": "stdout"
        },
        {
          "output_type": "display_data",
          "data": {
            "image/png": "[encoded data removed]",
            "text/plain": [
              "<Figure size 576x216 with 10 Axes>"
            ]
          },
          "metadata": {
            "tags": []
          }
        }
      ]
    },
    {
      "cell_type": "code",
      "metadata": {
        "id": "bmfsk76-fadV",
        "colab_type": "code",
        "colab": {}
      },
      "source": [
        "def plot_model_history(model_history):\n",
        "    fig, axs = plt.subplots(1,2,figsize=(15,5))\n",
        "    # summarize history for accuracy\n",
        "    axs[0].plot(range(1,len(model_history.history['acc'])+1),model_history.history['acc'])\n",
        "    axs[0].plot(range(1,len(model_history.history['val_acc'])+1),model_history.history['val_acc'])\n",
        "    axs[0].set_title('Model Accuracy')\n",
        "    axs[0].set_ylabel('Accuracy')\n",
        "    axs[0].set_xlabel('Epoch')\n",
        "    axs[0].set_xticks(np.arange(1,len(model_history.history['acc'])+1),len(model_history.history['acc'])/10)\n",
        "    axs[0].legend(['train', 'val'], loc='best')\n",
        "    # summarize history for loss\n",
        "    axs[1].plot(range(1,len(model_history.history['loss'])+1),model_history.history['loss'])\n",
        "    axs[1].plot(range(1,len(model_history.history['val_loss'])+1),model_history.history['val_loss'])\n",
        "    axs[1].set_title('Model Loss')\n",
        "    axs[1].set_ylabel('Loss')\n",
        "    axs[1].set_xlabel('Epoch')\n",
        "    axs[1].set_xticks(np.arange(1,len(model_history.history['loss'])+1),len(model_history.history['loss'])/10)\n",
        "    axs[1].legend(['train', 'val'], loc='best')\n",
        "    plt.show()"
      ],
      "execution_count": 0,
      "outputs": []
    },
    {
      "cell_type": "code",
      "metadata": {
        "id": "YJMT4rjgfdZz",
        "colab_type": "code",
        "colab": {}
      },
      "source": [
        "def accuracy(test_x, test_y, model):\n",
        "    result = model.predict(test_x)\n",
        "    predicted_class = np.argmax(result, axis=1)\n",
        "    true_class = np.argmax(test_y, axis=1)\n",
        "    num_correct = np.sum(predicted_class == true_class) \n",
        "    accuracy = float(num_correct)/result.shape[0]\n",
        "    return (accuracy * 100)"
      ],
      "execution_count": 0,
      "outputs": []
    },
    {
      "cell_type": "code",
      "metadata": {
        "id": "T5c5nDvxm6zR",
        "colab_type": "code",
        "colab": {}
      },
      "source": [
        "#print(num_classes)\n",
        "train_features = train_features.astype('float32')/255\n",
        "test_features = test_features.astype('float32')/255\n",
        "# convert class labels to binary class labels\n",
        "train_labels = np_utils.to_categorical(train_labels, num_classes)\n",
        "test_labels = np_utils.to_categorical(test_labels, num_classes)"
      ],
      "execution_count": 0,
      "outputs": []
    },
    {
      "cell_type": "markdown",
      "metadata": {
        "id": "GMw2FamRIYoY",
        "colab_type": "text"
      },
      "source": [
        ""
      ]
    },
    {
      "cell_type": "code",
      "metadata": {
        "id": "cSOb2lkJfhVq",
        "colab_type": "code",
        "outputId": "5fa75ca3-9003-4cd8-de5f-568c4fe8097b",
        "colab": {
          "base_uri": "https://localhost:8080/",
          "height": 72
        }
      },
      "source": [
        "# Define the model\n",
        "model = Sequential()\n",
        "model.add(SeparableConv2D(81,kernel_size=(3, 3),activation='relu',padding='same',input_shape=(32, 32, 3)))#RF=1\n",
        "model.add(BatchNormalization(momentum=0.355))\n",
        "model.add(Dropout(0.15))\n",
        "\n",
        "model.add(SeparableConv2D(81,kernel_size=(3,3),padding='same',activation='relu'))#32 #RF=3x3\n",
        "model.add(BatchNormalization(momentum=0.355))\n",
        "model.add(Dropout(0.15))\n",
        "model.add(SeparableConv2D(81,kernel_size=(3,3),strides=2,padding='same',activation='relu'))#32 #RF=5x5\n",
        "model.add(BatchNormalization(momentum=0.355))\n",
        "model.add(Dropout(0.15))\n",
        "\n",
        "\n",
        "\n",
        "model.add(SeparableConv2D(81,kernel_size=(3,3),padding='same',activation='relu'))#16 RF=7x7\n",
        "model.add(BatchNormalization(momentum=0.355))\n",
        "model.add(Dropout(0.15))\n",
        "\n",
        "model.add(Convolution2D(10,1,1,activation='relu'))#16 RF=7x7\n",
        "\n",
        "model.add(SeparableConv2D(10,kernel_size=(3,3),strides=2,padding='same',activation='relu'))#16 RF=11x11\n",
        "model.add(BatchNormalization(momentum=0.355))\n",
        "model.add(Dropout(0.15))\n",
        "\n",
        "model.add(SeparableConv2D(10,kernel_size=(3,3),strides=2,padding='same',activation='relu'))#16 RF=15x15\n",
        "model.add(BatchNormalization(momentum=0.355))\n",
        "model.add(Dropout(0.15))\n",
        "\n",
        "\n",
        "\n",
        "model.add(Convolution2D(10,1,1,activation='relu'))#16 RF=15x15\n",
        "\n",
        "model.add(GlobalAveragePooling2D())#\n",
        "\n",
        "model.add(Activation('softmax'))\n"
      ],
      "execution_count": 0,
      "outputs": [
        {
          "output_type": "stream",
          "text": [
            "/usr/local/lib/python3.6/dist-packages/ipykernel_launcher.py:19: UserWarning: Update your `Conv2D` call to the Keras 2 API: `Conv2D(10, (1, 1), activation=\"relu\")`\n",
            "/usr/local/lib/python3.6/dist-packages/ipykernel_launcher.py:31: UserWarning: Update your `Conv2D` call to the Keras 2 API: `Conv2D(10, (1, 1), activation=\"relu\")`\n"
          ],
          "name": "stderr"
        }
      ]
    },
    {
      "cell_type": "code",
      "metadata": {
        "id": "1RAI2wq6rsBO",
        "colab_type": "code",
        "colab": {}
      },
      "source": [
        ""
      ],
      "execution_count": 0,
      "outputs": []
    },
    {
      "cell_type": "code",
      "metadata": {
        "id": "wvVs5tC8mR6Q",
        "colab_type": "code",
        "outputId": "33d447bc-3054-4665-b5d9-441ee09b313f",
        "colab": {
          "base_uri": "https://localhost:8080/",
          "height": 919
        }
      },
      "source": [
        "model.summary()"
      ],
      "execution_count": 0,
      "outputs": [
        {
          "output_type": "stream",
          "text": [
            "Model: \"sequential_2\"\n",
            "_________________________________________________________________\n",
            "Layer (type)                 Output Shape              Param #   \n",
            "=================================================================\n",
            "separable_conv2d_7 (Separabl (None, 32, 32, 81)        351       \n",
            "_________________________________________________________________\n",
            "batch_normalization_7 (Batch (None, 32, 32, 81)        324       \n",
            "_________________________________________________________________\n",
            "dropout_7 (Dropout)          (None, 32, 32, 81)        0         \n",
            "_________________________________________________________________\n",
            "separable_conv2d_8 (Separabl (None, 32, 32, 81)        7371      \n",
            "_________________________________________________________________\n",
            "batch_normalization_8 (Batch (None, 32, 32, 81)        324       \n",
            "_________________________________________________________________\n",
            "dropout_8 (Dropout)          (None, 32, 32, 81)        0         \n",
            "_________________________________________________________________\n",
            "separable_conv2d_9 (Separabl (None, 16, 16, 81)        7371      \n",
            "_________________________________________________________________\n",
            "batch_normalization_9 (Batch (None, 16, 16, 81)        324       \n",
            "_________________________________________________________________\n",
            "dropout_9 (Dropout)          (None, 16, 16, 81)        0         \n",
            "_________________________________________________________________\n",
            "separable_conv2d_10 (Separab (None, 16, 16, 81)        7371      \n",
            "_________________________________________________________________\n",
            "batch_normalization_10 (Batc (None, 16, 16, 81)        324       \n",
            "_________________________________________________________________\n",
            "dropout_10 (Dropout)         (None, 16, 16, 81)        0         \n",
            "_________________________________________________________________\n",
            "conv2d_3 (Conv2D)            (None, 16, 16, 10)        820       \n",
            "_________________________________________________________________\n",
            "separable_conv2d_11 (Separab (None, 8, 8, 10)          200       \n",
            "_________________________________________________________________\n",
            "batch_normalization_11 (Batc (None, 8, 8, 10)          40        \n",
            "_________________________________________________________________\n",
            "dropout_11 (Dropout)         (None, 8, 8, 10)          0         \n",
            "_________________________________________________________________\n",
            "separable_conv2d_12 (Separab (None, 4, 4, 10)          200       \n",
            "_________________________________________________________________\n",
            "batch_normalization_12 (Batc (None, 4, 4, 10)          40        \n",
            "_________________________________________________________________\n",
            "dropout_12 (Dropout)         (None, 4, 4, 10)          0         \n",
            "_________________________________________________________________\n",
            "conv2d_4 (Conv2D)            (None, 4, 4, 10)          110       \n",
            "_________________________________________________________________\n",
            "global_average_pooling2d_2 ( (None, 10)                0         \n",
            "_________________________________________________________________\n",
            "activation_2 (Activation)    (None, 10)                0         \n",
            "=================================================================\n",
            "Total params: 25,170\n",
            "Trainable params: 24,482\n",
            "Non-trainable params: 688\n",
            "_________________________________________________________________\n"
          ],
          "name": "stdout"
        }
      ]
    },
    {
      "cell_type": "code",
      "metadata": {
        "id": "5oK_V7WyfsXX",
        "colab_type": "code",
        "outputId": "a3fb1069-f8a1-4292-ff20-22b056bb2607",
        "colab": {
          "base_uri": "https://localhost:8080/",
          "height": 1000
        }
      },
      "source": [
        "from keras.preprocessing.image import ImageDataGenerator\n",
        "\n",
        "datagen = ImageDataGenerator(zoom_range=0.0, \n",
        "                             horizontal_flip=False)\n",
        "\n",
        "\n",
        "\n",
        "\n",
        "# train the model\n",
        "start = time.time()\n",
        "from keras.optimizers import Adam\n",
        "from keras.callbacks import LearningRateScheduler\n",
        "def scheduler(epoch, lr):\n",
        "  return round(0.009942 * 1/(1 + 0.319 * epoch), 10)\n",
        "\n",
        "model.compile(loss='categorical_crossentropy', optimizer=Adam(lr=0.003), metrics=['accuracy'])\n",
        "\n",
        "#model.fit(X_train, Y_train, batch_size=128, epochs=20, verbose=1, validation_data=(X_test, Y_test), callbacks=[LearningRateScheduler(scheduler, verbose=1)])\n",
        "# Train the model\n",
        "model_info = model.fit_generator(datagen.flow(train_features, train_labels, batch_size = 128),\n",
        "                                 samples_per_epoch = train_features.shape[0]*5, nb_epoch = 50, \n",
        "                                 validation_data = (test_features, test_labels), callbacks=[LearningRateScheduler(scheduler,verbose=1)])\n",
        "end = time.time()\n",
        "print (\"Model took %0.2f seconds to train\"%(end - start))\n",
        "# plot model history\n",
        "plot_model_history(model_info)\n",
        "# compute test accuracy\n",
        "print (\"Accuracy on test data is: %0.2f\"%accuracy(test_features, test_labels, model))"
      ],
      "execution_count": 0,
      "outputs": [
        {
          "output_type": "stream",
          "text": [
            "/usr/local/lib/python3.6/dist-packages/ipykernel_launcher.py:22: UserWarning: The semantics of the Keras 2 argument `steps_per_epoch` is not the same as the Keras 1 argument `samples_per_epoch`. `steps_per_epoch` is the number of batches to draw from the generator at each epoch. Basically steps_per_epoch = samples_per_epoch/batch_size. Similarly `nb_val_samples`->`validation_steps` and `val_samples`->`steps` arguments have changed. Update your method calls accordingly.\n",
            "/usr/local/lib/python3.6/dist-packages/ipykernel_launcher.py:22: UserWarning: Update your `fit_generator` call to the Keras 2 API: `fit_generator(<keras_pre..., validation_data=(array([[[..., callbacks=[<keras.ca..., steps_per_epoch=1953, epochs=50)`\n"
          ],
          "name": "stderr"
        },
        {
          "output_type": "stream",
          "text": [
            "Epoch 1/50\n",
            "\n",
            "Epoch 00001: LearningRateScheduler setting learning rate to 0.009942.\n",
            "1953/1953 [==============================] - 166s 85ms/step - loss: 1.2381 - acc: 0.5479 - val_loss: 1.1177 - val_acc: 0.6153\n",
            "Epoch 2/50\n",
            "\n",
            "Epoch 00002: LearningRateScheduler setting learning rate to 0.0075375284.\n",
            "1953/1953 [==============================] - 163s 83ms/step - loss: 0.9093 - acc: 0.6752 - val_loss: 0.7898 - val_acc: 0.7226\n",
            "Epoch 3/50\n",
            "\n",
            "Epoch 00003: LearningRateScheduler setting learning rate to 0.0060695971.\n",
            "1953/1953 [==============================] - 163s 83ms/step - loss: 0.8054 - acc: 0.7143 - val_loss: 0.7320 - val_acc: 0.7458\n",
            "Epoch 4/50\n",
            "\n",
            "Epoch 00004: LearningRateScheduler setting learning rate to 0.0050802248.\n",
            "1953/1953 [==============================] - 163s 84ms/step - loss: 0.7444 - acc: 0.7374 - val_loss: 0.6811 - val_acc: 0.7602\n",
            "Epoch 5/50\n",
            "\n",
            "Epoch 00005: LearningRateScheduler setting learning rate to 0.0043681898.\n",
            "1953/1953 [==============================] - 163s 83ms/step - loss: 0.7033 - acc: 0.7524 - val_loss: 0.6676 - val_acc: 0.7671\n",
            "Epoch 6/50\n",
            "\n",
            "Epoch 00006: LearningRateScheduler setting learning rate to 0.0038312139.\n",
            "1953/1953 [==============================] - 163s 84ms/step - loss: 0.6756 - acc: 0.7634 - val_loss: 0.6373 - val_acc: 0.7807\n",
            "Epoch 7/50\n",
            "\n",
            "Epoch 00007: LearningRateScheduler setting learning rate to 0.0034118051.\n",
            "1953/1953 [==============================] - 163s 83ms/step - loss: 0.6532 - acc: 0.7709 - val_loss: 0.6484 - val_acc: 0.7761\n",
            "Epoch 8/50\n",
            "\n",
            "Epoch 00008: LearningRateScheduler setting learning rate to 0.0030751624.\n",
            "1953/1953 [==============================] - 163s 83ms/step - loss: 0.6340 - acc: 0.7774 - val_loss: 0.6312 - val_acc: 0.7818\n",
            "Epoch 9/50\n",
            "\n",
            "Epoch 00009: LearningRateScheduler setting learning rate to 0.0027989865.\n",
            "1953/1953 [==============================] - 163s 83ms/step - loss: 0.6224 - acc: 0.7816 - val_loss: 0.6183 - val_acc: 0.7887\n",
            "Epoch 10/50\n",
            "\n",
            "Epoch 00010: LearningRateScheduler setting learning rate to 0.0025683286.\n",
            "1953/1953 [==============================] - 163s 83ms/step - loss: 0.6109 - acc: 0.7859 - val_loss: 0.6237 - val_acc: 0.7894\n",
            "Epoch 11/50\n",
            "\n",
            "Epoch 00011: LearningRateScheduler setting learning rate to 0.0023727924.\n",
            "1953/1953 [==============================] - 163s 83ms/step - loss: 0.6005 - acc: 0.7887 - val_loss: 0.6270 - val_acc: 0.7900\n",
            "Epoch 12/50\n",
            "\n",
            "Epoch 00012: LearningRateScheduler setting learning rate to 0.0022049235.\n",
            "1953/1953 [==============================] - 162s 83ms/step - loss: 0.5906 - acc: 0.7922 - val_loss: 0.6012 - val_acc: 0.7967\n",
            "Epoch 13/50\n",
            "\n",
            "Epoch 00013: LearningRateScheduler setting learning rate to 0.0020592378.\n",
            "1953/1953 [==============================] - 163s 83ms/step - loss: 0.5838 - acc: 0.7953 - val_loss: 0.6063 - val_acc: 0.7938\n",
            "Epoch 14/50\n",
            "\n",
            "Epoch 00014: LearningRateScheduler setting learning rate to 0.0019316106.\n",
            "1953/1953 [==============================] - 162s 83ms/step - loss: 0.5760 - acc: 0.7977 - val_loss: 0.6205 - val_acc: 0.7913\n",
            "Epoch 15/50\n",
            "\n",
            "Epoch 00015: LearningRateScheduler setting learning rate to 0.0018188804.\n",
            "1953/1953 [==============================] - 162s 83ms/step - loss: 0.5739 - acc: 0.7977 - val_loss: 0.5996 - val_acc: 0.7987\n",
            "Epoch 16/50\n",
            "\n",
            "Epoch 00016: LearningRateScheduler setting learning rate to 0.0017185825.\n",
            "1953/1953 [==============================] - 162s 83ms/step - loss: 0.5671 - acc: 0.8001 - val_loss: 0.5922 - val_acc: 0.7997\n",
            "Epoch 17/50\n",
            "\n",
            "Epoch 00017: LearningRateScheduler setting learning rate to 0.001628768.\n",
            "1953/1953 [==============================] - 162s 83ms/step - loss: 0.5612 - acc: 0.8033 - val_loss: 0.5978 - val_acc: 0.7974\n",
            "Epoch 18/50\n",
            "\n",
            "Epoch 00018: LearningRateScheduler setting learning rate to 0.0015478748.\n",
            "1953/1953 [==============================] - 162s 83ms/step - loss: 0.5571 - acc: 0.8040 - val_loss: 0.6057 - val_acc: 0.7962\n",
            "Epoch 19/50\n",
            "\n",
            "Epoch 00019: LearningRateScheduler setting learning rate to 0.0014746366.\n",
            "1953/1953 [==============================] - 162s 83ms/step - loss: 0.5543 - acc: 0.8052 - val_loss: 0.5862 - val_acc: 0.8001\n",
            "Epoch 20/50\n",
            "\n",
            "Epoch 00020: LearningRateScheduler setting learning rate to 0.0014080159.\n",
            "1953/1953 [==============================] - 162s 83ms/step - loss: 0.5507 - acc: 0.8069 - val_loss: 0.5872 - val_acc: 0.8031\n",
            "Epoch 21/50\n",
            "\n",
            "Epoch 00021: LearningRateScheduler setting learning rate to 0.0013471545.\n",
            "1953/1953 [==============================] - 162s 83ms/step - loss: 0.5456 - acc: 0.8087 - val_loss: 0.5771 - val_acc: 0.8047\n",
            "Epoch 22/50\n",
            "\n",
            "Epoch 00022: LearningRateScheduler setting learning rate to 0.0012913365.\n",
            "1953/1953 [==============================] - 162s 83ms/step - loss: 0.5441 - acc: 0.8090 - val_loss: 0.5891 - val_acc: 0.7954\n",
            "Epoch 23/50\n",
            "\n",
            "Epoch 00023: LearningRateScheduler setting learning rate to 0.0012399601.\n",
            "1953/1953 [==============================] - 162s 83ms/step - loss: 0.5404 - acc: 0.8094 - val_loss: 0.5865 - val_acc: 0.8012\n",
            "Epoch 24/50\n",
            "\n",
            "Epoch 00024: LearningRateScheduler setting learning rate to 0.0011925153.\n",
            "1953/1953 [==============================] - 162s 83ms/step - loss: 0.5382 - acc: 0.8109 - val_loss: 0.5895 - val_acc: 0.7998\n",
            "Epoch 25/50\n",
            "\n",
            "Epoch 00025: LearningRateScheduler setting learning rate to 0.0011485675.\n",
            "1953/1953 [==============================] - 162s 83ms/step - loss: 0.5358 - acc: 0.8106 - val_loss: 0.5831 - val_acc: 0.8012\n",
            "Epoch 26/50\n",
            "\n",
            "Epoch 00026: LearningRateScheduler setting learning rate to 0.0011077437.\n",
            "1953/1953 [==============================] - 162s 83ms/step - loss: 0.5317 - acc: 0.8138 - val_loss: 0.5812 - val_acc: 0.8044\n",
            "Epoch 27/50\n",
            "\n",
            "Epoch 00027: LearningRateScheduler setting learning rate to 0.0010697224.\n",
            "1953/1953 [==============================] - 162s 83ms/step - loss: 0.5318 - acc: 0.8130 - val_loss: 0.5875 - val_acc: 0.8006\n",
            "Epoch 28/50\n",
            "\n",
            "Epoch 00028: LearningRateScheduler setting learning rate to 0.0010342245.\n",
            "1953/1953 [==============================] - 162s 83ms/step - loss: 0.5301 - acc: 0.8143 - val_loss: 0.5782 - val_acc: 0.8019\n",
            "Epoch 29/50\n",
            "\n",
            "Epoch 00029: LearningRateScheduler setting learning rate to 0.0010010068.\n",
            "1953/1953 [==============================] - 162s 83ms/step - loss: 0.5283 - acc: 0.8139 - val_loss: 0.5857 - val_acc: 0.8001\n",
            "Epoch 30/50\n",
            "\n",
            "Epoch 00030: LearningRateScheduler setting learning rate to 0.0009698566.\n",
            "1953/1953 [==============================] - 162s 83ms/step - loss: 0.5253 - acc: 0.8150 - val_loss: 0.5845 - val_acc: 0.8021\n",
            "Epoch 31/50\n",
            "\n",
            "Epoch 00031: LearningRateScheduler setting learning rate to 0.0009405866.\n",
            "1953/1953 [==============================] - 162s 83ms/step - loss: 0.5247 - acc: 0.8160 - val_loss: 0.5799 - val_acc: 0.8049\n",
            "Epoch 32/50\n",
            "\n",
            "Epoch 00032: LearningRateScheduler setting learning rate to 0.0009130315.\n",
            "1953/1953 [==============================] - 162s 83ms/step - loss: 0.5229 - acc: 0.8154 - val_loss: 0.5865 - val_acc: 0.8053\n",
            "Epoch 33/50\n",
            "\n",
            "Epoch 00033: LearningRateScheduler setting learning rate to 0.000887045.\n",
            "1953/1953 [==============================] - 162s 83ms/step - loss: 0.5232 - acc: 0.8164 - val_loss: 0.5857 - val_acc: 0.8034\n",
            "Epoch 34/50\n",
            "\n",
            "Epoch 00034: LearningRateScheduler setting learning rate to 0.0008624967.\n",
            "1953/1953 [==============================] - 162s 83ms/step - loss: 0.5189 - acc: 0.8169 - val_loss: 0.5774 - val_acc: 0.8056\n",
            "Epoch 35/50\n",
            "\n",
            "Epoch 00035: LearningRateScheduler setting learning rate to 0.0008392706.\n",
            "1953/1953 [==============================] - 162s 83ms/step - loss: 0.5190 - acc: 0.8171 - val_loss: 0.5875 - val_acc: 0.8008\n",
            "Epoch 36/50\n",
            "\n",
            "Epoch 00036: LearningRateScheduler setting learning rate to 0.0008172626.\n",
            "1953/1953 [==============================] - 162s 83ms/step - loss: 0.5157 - acc: 0.8182 - val_loss: 0.5777 - val_acc: 0.8061\n",
            "Epoch 37/50\n",
            "\n",
            "Epoch 00037: LearningRateScheduler setting learning rate to 0.0007963794.\n",
            "1953/1953 [==============================] - 162s 83ms/step - loss: 0.5151 - acc: 0.8184 - val_loss: 0.5781 - val_acc: 0.8084\n",
            "Epoch 38/50\n",
            "\n",
            "Epoch 00038: LearningRateScheduler setting learning rate to 0.0007765367.\n",
            "1953/1953 [==============================] - 162s 83ms/step - loss: 0.5138 - acc: 0.8191 - val_loss: 0.5825 - val_acc: 0.8065\n",
            "Epoch 39/50\n",
            "\n",
            "Epoch 00039: LearningRateScheduler setting learning rate to 0.0007576589.\n",
            "1953/1953 [==============================] - 162s 83ms/step - loss: 0.5123 - acc: 0.8188 - val_loss: 0.5807 - val_acc: 0.8036\n",
            "Epoch 40/50\n",
            "\n",
            "Epoch 00040: LearningRateScheduler setting learning rate to 0.0007396771.\n",
            "1953/1953 [==============================] - 162s 83ms/step - loss: 0.5115 - acc: 0.8209 - val_loss: 0.5768 - val_acc: 0.8060\n",
            "Epoch 41/50\n",
            "\n",
            "Epoch 00041: LearningRateScheduler setting learning rate to 0.0007225291.\n",
            "1953/1953 [==============================] - 162s 83ms/step - loss: 0.5126 - acc: 0.8198 - val_loss: 0.5662 - val_acc: 0.8091\n",
            "Epoch 42/50\n",
            "\n",
            "Epoch 00042: LearningRateScheduler setting learning rate to 0.0007061581.\n",
            "1953/1953 [==============================] - 162s 83ms/step - loss: 0.5100 - acc: 0.8206 - val_loss: 0.5770 - val_acc: 0.8091\n",
            "Epoch 43/50\n",
            "\n",
            "Epoch 00043: LearningRateScheduler setting learning rate to 0.0006905126.\n",
            "1953/1953 [==============================] - 163s 83ms/step - loss: 0.5081 - acc: 0.8210 - val_loss: 0.5722 - val_acc: 0.8091\n",
            "Epoch 44/50\n",
            "\n",
            "Epoch 00044: LearningRateScheduler setting learning rate to 0.0006755453.\n",
            "1953/1953 [==============================] - 162s 83ms/step - loss: 0.5092 - acc: 0.8205 - val_loss: 0.5719 - val_acc: 0.8047\n",
            "Epoch 45/50\n",
            "\n",
            "Epoch 00045: LearningRateScheduler setting learning rate to 0.0006612131.\n",
            "1953/1953 [==============================] - 163s 83ms/step - loss: 0.5082 - acc: 0.8203 - val_loss: 0.5857 - val_acc: 0.8054\n",
            "Epoch 46/50\n",
            "\n",
            "Epoch 00046: LearningRateScheduler setting learning rate to 0.0006474764.\n",
            "1953/1953 [==============================] - 162s 83ms/step - loss: 0.5049 - acc: 0.8223 - val_loss: 0.5723 - val_acc: 0.8097\n",
            "Epoch 47/50\n",
            "\n",
            "Epoch 00047: LearningRateScheduler setting learning rate to 0.0006342988.\n",
            "1953/1953 [==============================] - 163s 83ms/step - loss: 0.5057 - acc: 0.8212 - val_loss: 0.5723 - val_acc: 0.8081\n",
            "Epoch 48/50\n",
            "\n",
            "Epoch 00048: LearningRateScheduler setting learning rate to 0.000621647.\n",
            "1953/1953 [==============================] - 162s 83ms/step - loss: 0.5057 - acc: 0.8222 - val_loss: 0.5785 - val_acc: 0.8079\n",
            "Epoch 49/50\n",
            "\n",
            "Epoch 00049: LearningRateScheduler setting learning rate to 0.0006094899.\n",
            "1953/1953 [==============================] - 163s 83ms/step - loss: 0.5049 - acc: 0.8215 - val_loss: 0.5753 - val_acc: 0.8065\n",
            "Epoch 50/50\n",
            "\n",
            "Epoch 00050: LearningRateScheduler setting learning rate to 0.0005977993.\n",
            "1953/1953 [==============================] - 162s 83ms/step - loss: 0.5032 - acc: 0.8223 - val_loss: 0.5736 - val_acc: 0.8071\n",
            "Model took 8125.78 seconds to train\n"
          ],
          "name": "stdout"
        },
        {
          "output_type": "display_data",
          "data": {
            "image/png": "[encoded data removed]",
            "text/plain": [
              "<Figure size 1080x360 with 2 Axes>"
            ]
          },
          "metadata": {
            "tags": []
          }
        },
        {
          "output_type": "stream",
          "text": [
            "Accuracy on test data is: 80.71\n"
          ],
          "name": "stdout"
        }
      ]
    },
    {
      "cell_type": "markdown",
      "metadata": {
        "id": "pa_XRkdkKYdw",
        "colab_type": "text"
      },
      "source": [
        ""
      ]
    },
    {
      "cell_type": "markdown",
      "metadata": {
        "id": "plmbqos4gG03",
        "colab_type": "text"
      },
      "source": [
        ""
      ]
    },
    {
      "cell_type": "code",
      "metadata": {
        "id": "lWn4vF6ckLC4",
        "colab_type": "code",
        "colab": {}
      },
      "source": [
        ""
      ],
      "execution_count": 0,
      "outputs": []
    }
  ]
}