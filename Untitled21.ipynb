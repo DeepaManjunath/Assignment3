{
  "nbformat": 4,
  "nbformat_minor": 0,
  "metadata": {
    "colab": {
      "name": "Untitled21.ipynb",
      "provenance": [],
      "include_colab_link": true
    },
    "kernelspec": {
      "name": "python3",
      "display_name": "Python 3"
    },
    "accelerator": "GPU"
  },
  "cells": [
    {
      "cell_type": "markdown",
      "metadata": {
        "id": "view-in-github",
        "colab_type": "text"
      },
      "source": [
        "<a href=\"https://colab.research.google.com/github/DeepaManjunath/Assignment3/blob/master/Untitled21.ipynb\" target=\"_parent\"><img src=\"https://colab.research.google.com/assets/colab-badge.svg\" alt=\"Open In Colab\"/></a>"
      ]
    },
    {
      "cell_type": "code",
      "metadata": {
        "id": "Q84UFyYz0TqR",
        "colab_type": "code",
        "colab": {}
      },
      "source": [
        ""
      ],
      "execution_count": 0,
      "outputs": []
    },
    {
      "cell_type": "code",
      "metadata": {
        "id": "uAAgcBuHvOek",
        "colab_type": "code",
        "colab": {}
      },
      "source": [
        ""
      ],
      "execution_count": 0,
      "outputs": []
    },
    {
      "cell_type": "code",
      "metadata": {
        "id": "KkwXnw9OfHZl",
        "colab_type": "code",
        "outputId": "79f6b1f1-2de9-4d8c-e24a-768307f9c42a",
        "colab": {
          "base_uri": "https://localhost:8080/",
          "height": 81
        }
      },
      "source": [
        "from keras import backend as K\n",
        "import time\n",
        "import matplotlib.pyplot as plt\n",
        "import numpy as np\n",
        "% matplotlib inline\n",
        "np.random.seed(2017) \n",
        "from keras.models import Sequential\n",
        "from keras.layers.convolutional import Convolution2D, MaxPooling2D\n",
        "from keras.layers import Activation, Flatten, Dense, Dropout,SeparableConv2D,GlobalAveragePooling2D\n",
        "from keras.layers.normalization import BatchNormalization\n",
        "from keras.utils import np_utils"
      ],
      "execution_count": 1,
      "outputs": [
        {
          "output_type": "stream",
          "text": [
            "Using TensorFlow backend.\n"
          ],
          "name": "stderr"
        },
        {
          "output_type": "display_data",
          "data": {
            "text/html": [
              "<p style=\"color: red;\">\n",
              "The default version of TensorFlow in Colab will soon switch to TensorFlow 2.x.<br>\n",
              "We recommend you <a href=\"https://www.tensorflow.org/guide/migrate\" target=\"_blank\">upgrade</a> now \n",
              "or ensure your notebook will continue to use TensorFlow 1.x via the <code>%tensorflow_version 1.x</code> magic:\n",
              "<a href=\"https://colab.research.google.com/notebooks/tensorflow_version.ipynb\" target=\"_blank\">more info</a>.</p>\n"
            ],
            "text/plain": [
              "<IPython.core.display.HTML object>"
            ]
          },
          "metadata": {
            "tags": []
          }
        }
      ]
    },
    {
      "cell_type": "code",
      "metadata": {
        "id": "NHpnoCHZfO8g",
        "colab_type": "code",
        "outputId": "a81c8677-54d7-472f-b9bb-8f87f4dd7e55",
        "colab": {
          "base_uri": "https://localhost:8080/",
          "height": 52
        }
      },
      "source": [
        "from keras.datasets import cifar10\n",
        "(train_features, train_labels), (test_features, test_labels) = cifar10.load_data()\n",
        "num_train, img_channels, img_rows, img_cols =  train_features.shape\n",
        "num_test, _, _, _ =  test_features.shape\n",
        "num_classes = len(np.unique(train_labels))"
      ],
      "execution_count": 2,
      "outputs": [
        {
          "output_type": "stream",
          "text": [
            "Downloading data from https://www.cs.toronto.edu/~kriz/cifar-10-python.tar.gz\n",
            "170500096/170498071 [==============================] - 6s 0us/step\n"
          ],
          "name": "stdout"
        }
      ]
    },
    {
      "cell_type": "code",
      "metadata": {
        "id": "14HyBUXdfS6G",
        "colab_type": "code",
        "outputId": "f607dbf1-595e-4dcc-b29f-641b7babd071",
        "colab": {
          "base_uri": "https://localhost:8080/",
          "height": 213
        }
      },
      "source": [
        "class_names = ['airplane','automobile','bird','cat','deer',\n",
        "               'dog','frog','horse','ship','truck']\n",
        "fig = plt.figure(figsize=(8,3))\n",
        "for i in range(num_classes):\n",
        "    ax = fig.add_subplot(2, 5, 1 + i, xticks=[], yticks=[])\n",
        "    idx = np.where(train_labels[:]==i)[0]\n",
        "    features_idx = train_features[idx,::]\n",
        "    img_num = np.random.randint(features_idx.shape[0])\n",
        "    im = features_idx[img_num]\n",
        "    ax.set_title(class_names[i])\n",
        "    plt.imshow(im)\n",
        "plt.show()"
      ],
      "execution_count": 3,
      "outputs": [
        {
          "output_type": "display_data",
          "data": {
            "image/png": "[encoded data removed]",
            "text/plain": [
              "<Figure size 576x216 with 10 Axes>"
            ]
          },
          "metadata": {
            "tags": []
          }
        }
      ]
    },
    {
      "cell_type": "code",
      "metadata": {
        "id": "bmfsk76-fadV",
        "colab_type": "code",
        "colab": {}
      },
      "source": [
        "def plot_model_history(model_history):\n",
        "    fig, axs = plt.subplots(1,2,figsize=(15,5))\n",
        "    # summarize history for accuracy\n",
        "    axs[0].plot(range(1,len(model_history.history['acc'])+1),model_history.history['acc'])\n",
        "    axs[0].plot(range(1,len(model_history.history['val_acc'])+1),model_history.history['val_acc'])\n",
        "    axs[0].set_title('Model Accuracy')\n",
        "    axs[0].set_ylabel('Accuracy')\n",
        "    axs[0].set_xlabel('Epoch')\n",
        "    axs[0].set_xticks(np.arange(1,len(model_history.history['acc'])+1),len(model_history.history['acc'])/10)\n",
        "    axs[0].legend(['train', 'val'], loc='best')\n",
        "    # summarize history for loss\n",
        "    axs[1].plot(range(1,len(model_history.history['loss'])+1),model_history.history['loss'])\n",
        "    axs[1].plot(range(1,len(model_history.history['val_loss'])+1),model_history.history['val_loss'])\n",
        "    axs[1].set_title('Model Loss')\n",
        "    axs[1].set_ylabel('Loss')\n",
        "    axs[1].set_xlabel('Epoch')\n",
        "    axs[1].set_xticks(np.arange(1,len(model_history.history['loss'])+1),len(model_history.history['loss'])/10)\n",
        "    axs[1].legend(['train', 'val'], loc='best')\n",
        "    plt.show()"
      ],
      "execution_count": 0,
      "outputs": []
    },
    {
      "cell_type": "code",
      "metadata": {
        "id": "YJMT4rjgfdZz",
        "colab_type": "code",
        "colab": {}
      },
      "source": [
        "def accuracy(test_x, test_y, model):\n",
        "    result = model.predict(test_x)\n",
        "    predicted_class = np.argmax(result, axis=1)\n",
        "    true_class = np.argmax(test_y, axis=1)\n",
        "    num_correct = np.sum(predicted_class == true_class) \n",
        "    accuracy = float(num_correct)/result.shape[0]\n",
        "    return (accuracy * 100)"
      ],
      "execution_count": 0,
      "outputs": []
    },
    {
      "cell_type": "code",
      "metadata": {
        "id": "T5c5nDvxm6zR",
        "colab_type": "code",
        "colab": {}
      },
      "source": [
        "train_features = train_features.astype('float32')/255\n",
        "test_features = test_features.astype('float32')/255\n",
        "# convert class labels to binary class labels\n",
        "train_labels = np_utils.to_categorical(train_labels, num_classes)\n",
        "test_labels = np_utils.to_categorical(test_labels, num_classes)"
      ],
      "execution_count": 0,
      "outputs": []
    },
    {
      "cell_type": "code",
      "metadata": {
        "id": "cSOb2lkJfhVq",
        "colab_type": "code",
        "outputId": "1401b02e-acfb-4724-e640-fd31510aa096",
        "colab": {
          "base_uri": "https://localhost:8080/",
          "height": 540
        }
      },
      "source": [
        "# Define the model\n",
        "model = Sequential()\n",
        "model.add(Convolution2D(48, 3, 3, border_mode='same', input_shape=(32, 32, 3)))\n",
        "model.add(Activation('relu'))\n",
        "model.add(Convolution2D(48, 3, 3))\n",
        "model.add(Activation('relu'))\n",
        "model.add(MaxPooling2D(pool_size=(2, 2)))\n",
        "model.add(Dropout(0.25))\n",
        "model.add(Convolution2D(96, 3, 3, border_mode='same'))\n",
        "model.add(Activation('relu'))\n",
        "model.add(Convolution2D(96, 3, 3))\n",
        "model.add(Activation('relu'))\n",
        "model.add(MaxPooling2D(pool_size=(2, 2)))\n",
        "model.add(Dropout(0.25))\n",
        "model.add(Convolution2D(192, 3, 3, border_mode='same'))\n",
        "model.add(Activation('relu'))\n",
        "model.add(Convolution2D(192, 3, 3))\n",
        "model.add(Activation('relu'))\n",
        "model.add(MaxPooling2D(pool_size=(2, 2)))\n",
        "model.add(Dropout(0.25))\n",
        "model.add(Flatten())\n",
        "model.add(Dense(512))\n",
        "model.add(Activation('relu'))\n",
        "model.add(Dropout(0.5))\n",
        "model.add(Dense(256))\n",
        "model.add(Activation('relu'))\n",
        "model.add(Dropout(0.5))\n",
        "model.add(Dense(num_classes, activation='softmax'))\n",
        "# Compile the model\n",
        "model.compile(optimizer='adam', loss='categorical_crossentropy', metrics=['accuracy'])\n"
      ],
      "execution_count": 0,
      "outputs": [
        {
          "output_type": "stream",
          "text": [
            "WARNING:tensorflow:From /usr/local/lib/python3.6/dist-packages/keras/backend/tensorflow_backend.py:66: The name tf.get_default_graph is deprecated. Please use tf.compat.v1.get_default_graph instead.\n",
            "\n",
            "WARNING:tensorflow:From /usr/local/lib/python3.6/dist-packages/keras/backend/tensorflow_backend.py:541: The name tf.placeholder is deprecated. Please use tf.compat.v1.placeholder instead.\n",
            "\n",
            "WARNING:tensorflow:From /usr/local/lib/python3.6/dist-packages/keras/backend/tensorflow_backend.py:4432: The name tf.random_uniform is deprecated. Please use tf.random.uniform instead.\n",
            "\n",
            "WARNING:tensorflow:From /usr/local/lib/python3.6/dist-packages/keras/backend/tensorflow_backend.py:4267: The name tf.nn.max_pool is deprecated. Please use tf.nn.max_pool2d instead.\n",
            "\n",
            "WARNING:tensorflow:From /usr/local/lib/python3.6/dist-packages/keras/backend/tensorflow_backend.py:148: The name tf.placeholder_with_default is deprecated. Please use tf.compat.v1.placeholder_with_default instead.\n",
            "\n",
            "WARNING:tensorflow:From /usr/local/lib/python3.6/dist-packages/keras/backend/tensorflow_backend.py:3733: calling dropout (from tensorflow.python.ops.nn_ops) with keep_prob is deprecated and will be removed in a future version.\n",
            "Instructions for updating:\n",
            "Please use `rate` instead of `keep_prob`. Rate should be set to `rate = 1 - keep_prob`.\n"
          ],
          "name": "stdout"
        },
        {
          "output_type": "stream",
          "text": [
            "/usr/local/lib/python3.6/dist-packages/ipykernel_launcher.py:2: UserWarning: Update your `Conv2D` call to the Keras 2 API: `Conv2D(48, (3, 3), input_shape=(32, 32, 3..., padding=\"same\")`\n",
            "  \n",
            "/usr/local/lib/python3.6/dist-packages/ipykernel_launcher.py:4: UserWarning: Update your `Conv2D` call to the Keras 2 API: `Conv2D(48, (3, 3))`\n",
            "  after removing the cwd from sys.path.\n",
            "/usr/local/lib/python3.6/dist-packages/ipykernel_launcher.py:8: UserWarning: Update your `Conv2D` call to the Keras 2 API: `Conv2D(96, (3, 3), padding=\"same\")`\n",
            "  \n",
            "/usr/local/lib/python3.6/dist-packages/ipykernel_launcher.py:10: UserWarning: Update your `Conv2D` call to the Keras 2 API: `Conv2D(96, (3, 3))`\n",
            "  # Remove the CWD from sys.path while we load stuff.\n",
            "/usr/local/lib/python3.6/dist-packages/ipykernel_launcher.py:14: UserWarning: Update your `Conv2D` call to the Keras 2 API: `Conv2D(192, (3, 3), padding=\"same\")`\n",
            "  \n",
            "/usr/local/lib/python3.6/dist-packages/ipykernel_launcher.py:16: UserWarning: Update your `Conv2D` call to the Keras 2 API: `Conv2D(192, (3, 3))`\n",
            "  app.launch_new_instance()\n"
          ],
          "name": "stderr"
        },
        {
          "output_type": "stream",
          "text": [
            "WARNING:tensorflow:From /usr/local/lib/python3.6/dist-packages/keras/optimizers.py:793: The name tf.train.Optimizer is deprecated. Please use tf.compat.v1.train.Optimizer instead.\n",
            "\n",
            "WARNING:tensorflow:From /usr/local/lib/python3.6/dist-packages/keras/backend/tensorflow_backend.py:3576: The name tf.log is deprecated. Please use tf.math.log instead.\n",
            "\n"
          ],
          "name": "stdout"
        }
      ]
    },
    {
      "cell_type": "code",
      "metadata": {
        "id": "H8JaqeQ6xUBm",
        "colab_type": "code",
        "colab": {}
      },
      "source": [
        ""
      ],
      "execution_count": 0,
      "outputs": []
    },
    {
      "cell_type": "code",
      "metadata": {
        "id": "INVw8yQ0xbRK",
        "colab_type": "code",
        "colab": {}
      },
      "source": [
        ""
      ],
      "execution_count": 0,
      "outputs": []
    },
    {
      "cell_type": "code",
      "metadata": {
        "id": "wvVs5tC8mR6Q",
        "colab_type": "code",
        "outputId": "c6ffca41-45e0-4b44-ff09-145636cf4bce",
        "colab": {
          "base_uri": "https://localhost:8080/",
          "height": 1000
        }
      },
      "source": [
        "model.summary()"
      ],
      "execution_count": 0,
      "outputs": [
        {
          "output_type": "stream",
          "text": [
            "Model: \"sequential_1\"\n",
            "_________________________________________________________________\n",
            "Layer (type)                 Output Shape              Param #   \n",
            "=================================================================\n",
            "conv2d_1 (Conv2D)            (None, 32, 32, 48)        1344      \n",
            "_________________________________________________________________\n",
            "activation_1 (Activation)    (None, 32, 32, 48)        0         \n",
            "_________________________________________________________________\n",
            "conv2d_2 (Conv2D)            (None, 30, 30, 48)        20784     \n",
            "_________________________________________________________________\n",
            "activation_2 (Activation)    (None, 30, 30, 48)        0         \n",
            "_________________________________________________________________\n",
            "max_pooling2d_1 (MaxPooling2 (None, 15, 15, 48)        0         \n",
            "_________________________________________________________________\n",
            "dropout_1 (Dropout)          (None, 15, 15, 48)        0         \n",
            "_________________________________________________________________\n",
            "conv2d_3 (Conv2D)            (None, 15, 15, 96)        41568     \n",
            "_________________________________________________________________\n",
            "activation_3 (Activation)    (None, 15, 15, 96)        0         \n",
            "_________________________________________________________________\n",
            "conv2d_4 (Conv2D)            (None, 13, 13, 96)        83040     \n",
            "_________________________________________________________________\n",
            "activation_4 (Activation)    (None, 13, 13, 96)        0         \n",
            "_________________________________________________________________\n",
            "max_pooling2d_2 (MaxPooling2 (None, 6, 6, 96)          0         \n",
            "_________________________________________________________________\n",
            "dropout_2 (Dropout)          (None, 6, 6, 96)          0         \n",
            "_________________________________________________________________\n",
            "conv2d_5 (Conv2D)            (None, 6, 6, 192)         166080    \n",
            "_________________________________________________________________\n",
            "activation_5 (Activation)    (None, 6, 6, 192)         0         \n",
            "_________________________________________________________________\n",
            "conv2d_6 (Conv2D)            (None, 4, 4, 192)         331968    \n",
            "_________________________________________________________________\n",
            "activation_6 (Activation)    (None, 4, 4, 192)         0         \n",
            "_________________________________________________________________\n",
            "max_pooling2d_3 (MaxPooling2 (None, 2, 2, 192)         0         \n",
            "_________________________________________________________________\n",
            "dropout_3 (Dropout)          (None, 2, 2, 192)         0         \n",
            "_________________________________________________________________\n",
            "flatten_1 (Flatten)          (None, 768)               0         \n",
            "_________________________________________________________________\n",
            "dense_1 (Dense)              (None, 512)               393728    \n",
            "_________________________________________________________________\n",
            "activation_7 (Activation)    (None, 512)               0         \n",
            "_________________________________________________________________\n",
            "dropout_4 (Dropout)          (None, 512)               0         \n",
            "_________________________________________________________________\n",
            "dense_2 (Dense)              (None, 256)               131328    \n",
            "_________________________________________________________________\n",
            "activation_8 (Activation)    (None, 256)               0         \n",
            "_________________________________________________________________\n",
            "dropout_5 (Dropout)          (None, 256)               0         \n",
            "_________________________________________________________________\n",
            "dense_3 (Dense)              (None, 10)                2570      \n",
            "=================================================================\n",
            "Total params: 1,172,410\n",
            "Trainable params: 1,172,410\n",
            "Non-trainable params: 0\n",
            "_________________________________________________________________\n"
          ],
          "name": "stdout"
        }
      ]
    },
    {
      "cell_type": "code",
      "metadata": {
        "id": "5oK_V7WyfsXX",
        "colab_type": "code",
        "outputId": "80436414-6bf7-4118-9d88-7b7ab12b6b04",
        "colab": {
          "base_uri": "https://localhost:8080/",
          "height": 1000
        }
      },
      "source": [
        "from keras.preprocessing.image import ImageDataGenerator\n",
        "\n",
        "datagen = ImageDataGenerator(zoom_range=0.0, \n",
        "                             horizontal_flip=False)\n",
        "\n",
        "\n",
        "# train the model\n",
        "start = time.time()\n",
        "# Train the model\n",
        "model_info = model.fit_generator(datagen.flow(train_features, train_labels, batch_size = 128),\n",
        "                                 samples_per_epoch = train_features.shape[0], nb_epoch = 50, \n",
        "                                 validation_data = (test_features, test_labels), verbose=1)\n",
        "end = time.time()\n",
        "print (\"Model took %0.2f seconds to train\"%(end - start))\n",
        "# plot model history\n",
        "plot_model_history(model_info)\n",
        "# compute test accuracy\n",
        "print (\"Accuracy on test data is: %0.2f\"%accuracy(test_features, test_labels, model))"
      ],
      "execution_count": 0,
      "outputs": [
        {
          "output_type": "stream",
          "text": [
            "WARNING:tensorflow:From /usr/local/lib/python3.6/dist-packages/tensorflow_core/python/ops/math_grad.py:1424: where (from tensorflow.python.ops.array_ops) is deprecated and will be removed in a future version.\n",
            "Instructions for updating:\n",
            "Use tf.where in 2.0, which has the same broadcast rule as np.where\n"
          ],
          "name": "stdout"
        },
        {
          "output_type": "stream",
          "text": [
            "/usr/local/lib/python3.6/dist-packages/ipykernel_launcher.py:12: UserWarning: The semantics of the Keras 2 argument `steps_per_epoch` is not the same as the Keras 1 argument `samples_per_epoch`. `steps_per_epoch` is the number of batches to draw from the generator at each epoch. Basically steps_per_epoch = samples_per_epoch/batch_size. Similarly `nb_val_samples`->`validation_steps` and `val_samples`->`steps` arguments have changed. Update your method calls accordingly.\n",
            "  if sys.path[0] == '':\n",
            "/usr/local/lib/python3.6/dist-packages/ipykernel_launcher.py:12: UserWarning: Update your `fit_generator` call to the Keras 2 API: `fit_generator(<keras_pre..., validation_data=(array([[[..., verbose=1, steps_per_epoch=390, epochs=50)`\n",
            "  if sys.path[0] == '':\n"
          ],
          "name": "stderr"
        },
        {
          "output_type": "stream",
          "text": [
            "WARNING:tensorflow:From /usr/local/lib/python3.6/dist-packages/keras/backend/tensorflow_backend.py:1033: The name tf.assign_add is deprecated. Please use tf.compat.v1.assign_add instead.\n",
            "\n",
            "WARNING:tensorflow:From /usr/local/lib/python3.6/dist-packages/keras/backend/tensorflow_backend.py:1020: The name tf.assign is deprecated. Please use tf.compat.v1.assign instead.\n",
            "\n",
            "WARNING:tensorflow:From /usr/local/lib/python3.6/dist-packages/keras/backend/tensorflow_backend.py:3005: The name tf.Session is deprecated. Please use tf.compat.v1.Session instead.\n",
            "\n",
            "Epoch 1/50\n",
            "WARNING:tensorflow:From /usr/local/lib/python3.6/dist-packages/keras/backend/tensorflow_backend.py:190: The name tf.get_default_session is deprecated. Please use tf.compat.v1.get_default_session instead.\n",
            "\n",
            "WARNING:tensorflow:From /usr/local/lib/python3.6/dist-packages/keras/backend/tensorflow_backend.py:197: The name tf.ConfigProto is deprecated. Please use tf.compat.v1.ConfigProto instead.\n",
            "\n",
            "WARNING:tensorflow:From /usr/local/lib/python3.6/dist-packages/keras/backend/tensorflow_backend.py:207: The name tf.global_variables is deprecated. Please use tf.compat.v1.global_variables instead.\n",
            "\n",
            "WARNING:tensorflow:From /usr/local/lib/python3.6/dist-packages/keras/backend/tensorflow_backend.py:216: The name tf.is_variable_initialized is deprecated. Please use tf.compat.v1.is_variable_initialized instead.\n",
            "\n",
            "WARNING:tensorflow:From /usr/local/lib/python3.6/dist-packages/keras/backend/tensorflow_backend.py:223: The name tf.variables_initializer is deprecated. Please use tf.compat.v1.variables_initializer instead.\n",
            "\n",
            "390/390 [==============================] - 14s 36ms/step - loss: 1.9082 - acc: 0.2673 - val_loss: 1.5461 - val_acc: 0.4301\n",
            "Epoch 2/50\n",
            "390/390 [==============================] - 7s 17ms/step - loss: 1.4230 - acc: 0.4839 - val_loss: 1.2160 - val_acc: 0.5557\n",
            "Epoch 3/50\n",
            "390/390 [==============================] - 7s 17ms/step - loss: 1.1892 - acc: 0.5787 - val_loss: 0.9798 - val_acc: 0.6533\n",
            "Epoch 4/50\n",
            "390/390 [==============================] - 7s 17ms/step - loss: 1.0408 - acc: 0.6371 - val_loss: 0.9210 - val_acc: 0.6794\n",
            "Epoch 5/50\n",
            "390/390 [==============================] - 7s 17ms/step - loss: 0.9386 - acc: 0.6748 - val_loss: 0.8369 - val_acc: 0.7119\n",
            "Epoch 6/50\n",
            "390/390 [==============================] - 7s 17ms/step - loss: 0.8557 - acc: 0.7054 - val_loss: 0.7729 - val_acc: 0.7312\n",
            "Epoch 7/50\n",
            "390/390 [==============================] - 7s 17ms/step - loss: 0.8062 - acc: 0.7262 - val_loss: 0.8123 - val_acc: 0.7322\n",
            "Epoch 8/50\n",
            "390/390 [==============================] - 7s 17ms/step - loss: 0.7534 - acc: 0.7433 - val_loss: 0.7006 - val_acc: 0.7613\n",
            "Epoch 9/50\n",
            "390/390 [==============================] - 7s 17ms/step - loss: 0.7217 - acc: 0.7567 - val_loss: 0.6883 - val_acc: 0.7671\n",
            "Epoch 10/50\n",
            "390/390 [==============================] - 7s 17ms/step - loss: 0.6873 - acc: 0.7666 - val_loss: 0.6628 - val_acc: 0.7728\n",
            "Epoch 11/50\n",
            "390/390 [==============================] - 7s 17ms/step - loss: 0.6654 - acc: 0.7745 - val_loss: 0.6590 - val_acc: 0.7790\n",
            "Epoch 12/50\n",
            "390/390 [==============================] - 7s 17ms/step - loss: 0.6468 - acc: 0.7782 - val_loss: 0.6711 - val_acc: 0.7764\n",
            "Epoch 13/50\n",
            "390/390 [==============================] - 7s 17ms/step - loss: 0.6260 - acc: 0.7858 - val_loss: 0.6506 - val_acc: 0.7792\n",
            "Epoch 14/50\n",
            "390/390 [==============================] - 7s 18ms/step - loss: 0.6088 - acc: 0.7940 - val_loss: 0.6576 - val_acc: 0.7799\n",
            "Epoch 15/50\n",
            "390/390 [==============================] - 7s 17ms/step - loss: 0.5912 - acc: 0.7968 - val_loss: 0.6103 - val_acc: 0.7938\n",
            "Epoch 16/50\n",
            "390/390 [==============================] - 7s 17ms/step - loss: 0.5727 - acc: 0.8060 - val_loss: 0.6449 - val_acc: 0.7891\n",
            "Epoch 17/50\n",
            "390/390 [==============================] - 7s 17ms/step - loss: 0.5730 - acc: 0.8056 - val_loss: 0.6152 - val_acc: 0.7940\n",
            "Epoch 18/50\n",
            "390/390 [==============================] - 7s 17ms/step - loss: 0.5513 - acc: 0.8112 - val_loss: 0.6115 - val_acc: 0.7998\n",
            "Epoch 19/50\n",
            "390/390 [==============================] - 7s 17ms/step - loss: 0.5458 - acc: 0.8137 - val_loss: 0.5942 - val_acc: 0.8014\n",
            "Epoch 20/50\n",
            "390/390 [==============================] - 7s 17ms/step - loss: 0.5408 - acc: 0.8160 - val_loss: 0.5838 - val_acc: 0.8052\n",
            "Epoch 21/50\n",
            "390/390 [==============================] - 7s 17ms/step - loss: 0.5215 - acc: 0.8231 - val_loss: 0.5948 - val_acc: 0.8044\n",
            "Epoch 22/50\n",
            "390/390 [==============================] - 7s 17ms/step - loss: 0.5119 - acc: 0.8286 - val_loss: 0.6283 - val_acc: 0.7965\n",
            "Epoch 23/50\n",
            "390/390 [==============================] - 7s 17ms/step - loss: 0.5065 - acc: 0.8271 - val_loss: 0.6373 - val_acc: 0.7952\n",
            "Epoch 24/50\n",
            "390/390 [==============================] - 7s 17ms/step - loss: 0.5029 - acc: 0.8297 - val_loss: 0.6036 - val_acc: 0.7997\n",
            "Epoch 25/50\n",
            "390/390 [==============================] - 7s 17ms/step - loss: 0.4869 - acc: 0.8329 - val_loss: 0.5787 - val_acc: 0.8123\n",
            "Epoch 26/50\n",
            "390/390 [==============================] - 7s 17ms/step - loss: 0.4766 - acc: 0.8380 - val_loss: 0.5942 - val_acc: 0.8100\n",
            "Epoch 27/50\n",
            "390/390 [==============================] - 7s 17ms/step - loss: 0.4750 - acc: 0.8378 - val_loss: 0.5898 - val_acc: 0.8105\n",
            "Epoch 28/50\n",
            "390/390 [==============================] - 7s 17ms/step - loss: 0.4702 - acc: 0.8407 - val_loss: 0.6087 - val_acc: 0.8067\n",
            "Epoch 29/50\n",
            "390/390 [==============================] - 7s 17ms/step - loss: 0.4617 - acc: 0.8424 - val_loss: 0.5808 - val_acc: 0.8179\n",
            "Epoch 30/50\n",
            "390/390 [==============================] - 7s 17ms/step - loss: 0.4560 - acc: 0.8458 - val_loss: 0.5861 - val_acc: 0.8118\n",
            "Epoch 31/50\n",
            "390/390 [==============================] - 7s 17ms/step - loss: 0.4517 - acc: 0.8449 - val_loss: 0.5723 - val_acc: 0.8117\n",
            "Epoch 32/50\n",
            "390/390 [==============================] - 7s 17ms/step - loss: 0.4424 - acc: 0.8505 - val_loss: 0.6041 - val_acc: 0.8061\n",
            "Epoch 33/50\n",
            "390/390 [==============================] - 7s 17ms/step - loss: 0.4392 - acc: 0.8512 - val_loss: 0.5862 - val_acc: 0.8094\n",
            "Epoch 34/50\n",
            "390/390 [==============================] - 7s 17ms/step - loss: 0.4320 - acc: 0.8530 - val_loss: 0.5770 - val_acc: 0.8215\n",
            "Epoch 35/50\n",
            "390/390 [==============================] - 7s 17ms/step - loss: 0.4382 - acc: 0.8506 - val_loss: 0.6011 - val_acc: 0.7983\n",
            "Epoch 36/50\n",
            "390/390 [==============================] - 7s 17ms/step - loss: 0.4236 - acc: 0.8553 - val_loss: 0.5865 - val_acc: 0.8116\n",
            "Epoch 37/50\n",
            "390/390 [==============================] - 7s 17ms/step - loss: 0.4210 - acc: 0.8575 - val_loss: 0.5833 - val_acc: 0.8107\n",
            "Epoch 38/50\n",
            "390/390 [==============================] - 7s 17ms/step - loss: 0.4144 - acc: 0.8600 - val_loss: 0.5930 - val_acc: 0.8115\n",
            "Epoch 39/50\n",
            "390/390 [==============================] - 7s 17ms/step - loss: 0.4145 - acc: 0.8599 - val_loss: 0.5780 - val_acc: 0.8163\n",
            "Epoch 40/50\n",
            "390/390 [==============================] - 7s 17ms/step - loss: 0.4135 - acc: 0.8601 - val_loss: 0.6162 - val_acc: 0.8098\n",
            "Epoch 41/50\n",
            "390/390 [==============================] - 7s 18ms/step - loss: 0.4121 - acc: 0.8600 - val_loss: 0.5888 - val_acc: 0.8146\n",
            "Epoch 42/50\n",
            "390/390 [==============================] - 7s 17ms/step - loss: 0.3941 - acc: 0.8670 - val_loss: 0.5724 - val_acc: 0.8219\n",
            "Epoch 43/50\n",
            "390/390 [==============================] - 7s 17ms/step - loss: 0.3964 - acc: 0.8663 - val_loss: 0.6012 - val_acc: 0.8112\n",
            "Epoch 44/50\n",
            "390/390 [==============================] - 7s 17ms/step - loss: 0.3963 - acc: 0.8654 - val_loss: 0.5862 - val_acc: 0.8180\n",
            "Epoch 45/50\n",
            "390/390 [==============================] - 7s 17ms/step - loss: 0.3959 - acc: 0.8678 - val_loss: 0.6021 - val_acc: 0.8157\n",
            "Epoch 46/50\n",
            "390/390 [==============================] - 7s 17ms/step - loss: 0.3915 - acc: 0.8692 - val_loss: 0.5756 - val_acc: 0.8174\n",
            "Epoch 47/50\n",
            "390/390 [==============================] - 7s 17ms/step - loss: 0.3809 - acc: 0.8709 - val_loss: 0.5866 - val_acc: 0.8169\n",
            "Epoch 48/50\n",
            "390/390 [==============================] - 7s 17ms/step - loss: 0.3730 - acc: 0.8745 - val_loss: 0.5866 - val_acc: 0.8181\n",
            "Epoch 49/50\n",
            "390/390 [==============================] - 7s 17ms/step - loss: 0.3825 - acc: 0.8726 - val_loss: 0.5937 - val_acc: 0.8225\n",
            "Epoch 50/50\n",
            "390/390 [==============================] - 7s 17ms/step - loss: 0.3664 - acc: 0.8767 - val_loss: 0.5708 - val_acc: 0.8266\n",
            "Model took 343.56 seconds to train\n"
          ],
          "name": "stdout"
        },
        {
          "output_type": "display_data",
          "data": {
            "image/png": "[encoded data removed]",
            "text/plain": [
              "<Figure size 1080x360 with 2 Axes>"
            ]
          },
          "metadata": {
            "tags": []
          }
        },
        {
          "output_type": "stream",
          "text": [
            "Accuracy on test data is: 82.66\n"
          ],
          "name": "stdout"
        }
      ]
    },
    {
      "cell_type": "code",
      "metadata": {
        "id": "DiYuSfBnxnEy",
        "colab_type": "code",
        "outputId": "1e1df59a-2150-40b0-f18c-ecc7f8717433",
        "colab": {
          "base_uri": "https://localhost:8080/",
          "height": 505
        }
      },
      "source": [
        "# Define the model\n",
        "model = Sequential()\n",
        "\n",
        "model.add(SeparableConv2D(95,kernel_size=(3, 3),activation='relu',padding='same',input_shape=(32, 32, 3)))#RF=1\n",
        "model.add(BatchNormalization(momentum=0.355))\n",
        "model.add(Dropout(0.1622))\n",
        "\n",
        "model.add(SeparableConv2D(95,kernel_size=(3,3),padding='same',activation='relu'))#32 #RF=3x3\n",
        "model.add(BatchNormalization(momentum=0.355))\n",
        "model.add(Dropout(0.1622))\n",
        "model.add(SeparableConv2D(95,kernel_size=(3,3),strides=2,padding='same',activation='relu'))#32 #RF=5x5\n",
        "model.add(BatchNormalization(momentum=0.355))\n",
        "model.add(Dropout(0.1622))\n",
        "\n",
        "\n",
        "\n",
        "model.add(SeparableConv2D(95,kernel_size=(3,3),padding='same',activation='relu'))#16 RF=7x7\n",
        "model.add(BatchNormalization(momentum=0.355))\n",
        "model.add(Dropout(0.1622))\n",
        "\n",
        "model.add(Convolution2D(10,1,1,activation='relu'))#16 RF=7x7\n",
        "model.add(BatchNormalization(momentum=0.355))\n",
        "model.add(Dropout(0.1622))\n",
        "model.add(SeparableConv2D(10,kernel_size=(3,3),strides=2,padding='same',activation='relu'))#8 RF=11x11\n",
        "model.add(BatchNormalization(momentum=0.355))\n",
        "model.add(Dropout(0.1622))\n",
        "\n",
        "model.add(SeparableConv2D(10,kernel_size=(3,3),strides=2,padding='same',activation='relu'))#4 RF=19x19\n",
        "model.add(BatchNormalization())\n",
        "model.add(Dropout(0.17))\n",
        "\n",
        "\n",
        "\n",
        "model.add(Convolution2D(10,1,1,activation='relu'))#4 RF=19x19\n",
        "\n",
        "model.add(GlobalAveragePooling2D())#\n",
        "\n",
        "model.add(Activation('softmax'))\n"
      ],
      "execution_count": 7,
      "outputs": [
        {
          "output_type": "stream",
          "text": [
            "WARNING:tensorflow:From /usr/local/lib/python3.6/dist-packages/keras/backend/tensorflow_backend.py:66: The name tf.get_default_graph is deprecated. Please use tf.compat.v1.get_default_graph instead.\n",
            "\n",
            "WARNING:tensorflow:From /usr/local/lib/python3.6/dist-packages/keras/backend/tensorflow_backend.py:541: The name tf.placeholder is deprecated. Please use tf.compat.v1.placeholder instead.\n",
            "\n",
            "WARNING:tensorflow:From /usr/local/lib/python3.6/dist-packages/keras/backend/tensorflow_backend.py:4432: The name tf.random_uniform is deprecated. Please use tf.random.uniform instead.\n",
            "\n",
            "WARNING:tensorflow:From /usr/local/lib/python3.6/dist-packages/keras/backend/tensorflow_backend.py:190: The name tf.get_default_session is deprecated. Please use tf.compat.v1.get_default_session instead.\n",
            "\n",
            "WARNING:tensorflow:From /usr/local/lib/python3.6/dist-packages/keras/backend/tensorflow_backend.py:197: The name tf.ConfigProto is deprecated. Please use tf.compat.v1.ConfigProto instead.\n",
            "\n",
            "WARNING:tensorflow:From /usr/local/lib/python3.6/dist-packages/keras/backend/tensorflow_backend.py:203: The name tf.Session is deprecated. Please use tf.compat.v1.Session instead.\n",
            "\n",
            "WARNING:tensorflow:From /usr/local/lib/python3.6/dist-packages/keras/backend/tensorflow_backend.py:207: The name tf.global_variables is deprecated. Please use tf.compat.v1.global_variables instead.\n",
            "\n",
            "WARNING:tensorflow:From /usr/local/lib/python3.6/dist-packages/keras/backend/tensorflow_backend.py:216: The name tf.is_variable_initialized is deprecated. Please use tf.compat.v1.is_variable_initialized instead.\n",
            "\n",
            "WARNING:tensorflow:From /usr/local/lib/python3.6/dist-packages/keras/backend/tensorflow_backend.py:223: The name tf.variables_initializer is deprecated. Please use tf.compat.v1.variables_initializer instead.\n",
            "\n",
            "WARNING:tensorflow:From /usr/local/lib/python3.6/dist-packages/keras/backend/tensorflow_backend.py:2041: The name tf.nn.fused_batch_norm is deprecated. Please use tf.compat.v1.nn.fused_batch_norm instead.\n",
            "\n",
            "WARNING:tensorflow:From /usr/local/lib/python3.6/dist-packages/keras/backend/tensorflow_backend.py:148: The name tf.placeholder_with_default is deprecated. Please use tf.compat.v1.placeholder_with_default instead.\n",
            "\n",
            "WARNING:tensorflow:From /usr/local/lib/python3.6/dist-packages/keras/backend/tensorflow_backend.py:3733: calling dropout (from tensorflow.python.ops.nn_ops) with keep_prob is deprecated and will be removed in a future version.\n",
            "Instructions for updating:\n",
            "Please use `rate` instead of `keep_prob`. Rate should be set to `rate = 1 - keep_prob`.\n"
          ],
          "name": "stdout"
        },
        {
          "output_type": "stream",
          "text": [
            "/usr/local/lib/python3.6/dist-packages/ipykernel_launcher.py:20: UserWarning: Update your `Conv2D` call to the Keras 2 API: `Conv2D(10, (1, 1), activation=\"relu\")`\n",
            "/usr/local/lib/python3.6/dist-packages/ipykernel_launcher.py:33: UserWarning: Update your `Conv2D` call to the Keras 2 API: `Conv2D(10, (1, 1), activation=\"relu\")`\n"
          ],
          "name": "stderr"
        }
      ]
    },
    {
      "cell_type": "code",
      "metadata": {
        "id": "n-cg7FiAyIYn",
        "colab_type": "code",
        "outputId": "bb1116c5-e1be-4220-e082-7c3cd2f37383",
        "colab": {
          "base_uri": "https://localhost:8080/",
          "height": 988
        }
      },
      "source": [
        "model.summary()"
      ],
      "execution_count": 8,
      "outputs": [
        {
          "output_type": "stream",
          "text": [
            "Model: \"sequential_1\"\n",
            "_________________________________________________________________\n",
            "Layer (type)                 Output Shape              Param #   \n",
            "=================================================================\n",
            "separable_conv2d_1 (Separabl (None, 32, 32, 95)        407       \n",
            "_________________________________________________________________\n",
            "batch_normalization_1 (Batch (None, 32, 32, 95)        380       \n",
            "_________________________________________________________________\n",
            "dropout_1 (Dropout)          (None, 32, 32, 95)        0         \n",
            "_________________________________________________________________\n",
            "separable_conv2d_2 (Separabl (None, 32, 32, 95)        9975      \n",
            "_________________________________________________________________\n",
            "batch_normalization_2 (Batch (None, 32, 32, 95)        380       \n",
            "_________________________________________________________________\n",
            "dropout_2 (Dropout)          (None, 32, 32, 95)        0         \n",
            "_________________________________________________________________\n",
            "separable_conv2d_3 (Separabl (None, 16, 16, 95)        9975      \n",
            "_________________________________________________________________\n",
            "batch_normalization_3 (Batch (None, 16, 16, 95)        380       \n",
            "_________________________________________________________________\n",
            "dropout_3 (Dropout)          (None, 16, 16, 95)        0         \n",
            "_________________________________________________________________\n",
            "separable_conv2d_4 (Separabl (None, 16, 16, 95)        9975      \n",
            "_________________________________________________________________\n",
            "batch_normalization_4 (Batch (None, 16, 16, 95)        380       \n",
            "_________________________________________________________________\n",
            "dropout_4 (Dropout)          (None, 16, 16, 95)        0         \n",
            "_________________________________________________________________\n",
            "conv2d_1 (Conv2D)            (None, 16, 16, 10)        960       \n",
            "_________________________________________________________________\n",
            "batch_normalization_5 (Batch (None, 16, 16, 10)        40        \n",
            "_________________________________________________________________\n",
            "dropout_5 (Dropout)          (None, 16, 16, 10)        0         \n",
            "_________________________________________________________________\n",
            "separable_conv2d_5 (Separabl (None, 8, 8, 10)          200       \n",
            "_________________________________________________________________\n",
            "batch_normalization_6 (Batch (None, 8, 8, 10)          40        \n",
            "_________________________________________________________________\n",
            "dropout_6 (Dropout)          (None, 8, 8, 10)          0         \n",
            "_________________________________________________________________\n",
            "separable_conv2d_6 (Separabl (None, 4, 4, 10)          200       \n",
            "_________________________________________________________________\n",
            "batch_normalization_7 (Batch (None, 4, 4, 10)          40        \n",
            "_________________________________________________________________\n",
            "dropout_7 (Dropout)          (None, 4, 4, 10)          0         \n",
            "_________________________________________________________________\n",
            "conv2d_2 (Conv2D)            (None, 4, 4, 10)          110       \n",
            "_________________________________________________________________\n",
            "global_average_pooling2d_1 ( (None, 10)                0         \n",
            "_________________________________________________________________\n",
            "activation_1 (Activation)    (None, 10)                0         \n",
            "=================================================================\n",
            "Total params: 33,442\n",
            "Trainable params: 32,622\n",
            "Non-trainable params: 820\n",
            "_________________________________________________________________\n"
          ],
          "name": "stdout"
        }
      ]
    },
    {
      "cell_type": "code",
      "metadata": {
        "id": "0F-09cqCyon9",
        "colab_type": "code",
        "outputId": "40e6aa3a-9395-4590-8b5d-cdf423f1a066",
        "colab": {
          "base_uri": "https://localhost:8080/",
          "height": 1000
        }
      },
      "source": [
        "from keras.preprocessing.image import ImageDataGenerator\n",
        "\n",
        "datagen = ImageDataGenerator(zoom_range=0.0, \n",
        "                             horizontal_flip=False,featurewise_std_normalization=True)\n",
        "\n",
        "# train the model\n",
        "start = time.time()\n",
        "from keras.optimizers import Adam\n",
        "from keras.callbacks import LearningRateScheduler\n",
        "def scheduler(epoch, lr):\n",
        "  return round(0.009942 * 1/(1 + 0.319 * epoch), 10)\n",
        "\n",
        "model.compile(loss='categorical_crossentropy', optimizer=Adam(lr=0.003), metrics=['accuracy'])\n",
        "\n",
        "\n",
        "model_info = model.fit_generator(datagen.flow(train_features, train_labels, batch_size = 128),\n",
        "                                 samples_per_epoch = train_features.shape[0]*7, nb_epoch = 50, \n",
        "                                 validation_data = (test_features, test_labels), callbacks=[LearningRateScheduler(scheduler,verbose=1)])\n",
        "end = time.time()\n",
        "print (\"Model took %0.2f seconds to train\"%(end - start))\n",
        "# plot model history\n",
        "plot_model_history(model_info)\n",
        "# compute test accuracy\n",
        "print (\"Accuracy on test data is: %0.2f\"%accuracy(test_features, test_labels, model))"
      ],
      "execution_count": 9,
      "outputs": [
        {
          "output_type": "stream",
          "text": [
            "WARNING:tensorflow:From /usr/local/lib/python3.6/dist-packages/keras/optimizers.py:793: The name tf.train.Optimizer is deprecated. Please use tf.compat.v1.train.Optimizer instead.\n",
            "\n",
            "WARNING:tensorflow:From /usr/local/lib/python3.6/dist-packages/keras/backend/tensorflow_backend.py:3576: The name tf.log is deprecated. Please use tf.math.log instead.\n",
            "\n",
            "WARNING:tensorflow:From /usr/local/lib/python3.6/dist-packages/tensorflow_core/python/ops/math_grad.py:1424: where (from tensorflow.python.ops.array_ops) is deprecated and will be removed in a future version.\n",
            "Instructions for updating:\n",
            "Use tf.where in 2.0, which has the same broadcast rule as np.where\n"
          ],
          "name": "stdout"
        },
        {
          "output_type": "stream",
          "text": [
            "/usr/local/lib/python3.6/dist-packages/keras_preprocessing/image/image_data_generator.py:348: UserWarning: This ImageDataGenerator specifies `featurewise_std_normalization`, which overrides setting of `featurewise_center`.\n",
            "  warnings.warn('This ImageDataGenerator specifies '\n",
            "/usr/local/lib/python3.6/dist-packages/ipykernel_launcher.py:18: UserWarning: The semantics of the Keras 2 argument `steps_per_epoch` is not the same as the Keras 1 argument `samples_per_epoch`. `steps_per_epoch` is the number of batches to draw from the generator at each epoch. Basically steps_per_epoch = samples_per_epoch/batch_size. Similarly `nb_val_samples`->`validation_steps` and `val_samples`->`steps` arguments have changed. Update your method calls accordingly.\n",
            "/usr/local/lib/python3.6/dist-packages/ipykernel_launcher.py:18: UserWarning: Update your `fit_generator` call to the Keras 2 API: `fit_generator(<keras_pre..., validation_data=(array([[[..., callbacks=[<keras.ca..., steps_per_epoch=2734, epochs=50)`\n"
          ],
          "name": "stderr"
        },
        {
          "output_type": "stream",
          "text": [
            "WARNING:tensorflow:From /usr/local/lib/python3.6/dist-packages/keras/backend/tensorflow_backend.py:1033: The name tf.assign_add is deprecated. Please use tf.compat.v1.assign_add instead.\n",
            "\n",
            "WARNING:tensorflow:From /usr/local/lib/python3.6/dist-packages/keras/backend/tensorflow_backend.py:1020: The name tf.assign is deprecated. Please use tf.compat.v1.assign instead.\n",
            "\n",
            "Epoch 1/50\n"
          ],
          "name": "stdout"
        },
        {
          "output_type": "stream",
          "text": [
            "/usr/local/lib/python3.6/dist-packages/keras_preprocessing/image/image_data_generator.py:716: UserWarning: This ImageDataGenerator specifies `featurewise_center`, but it hasn't been fit on any training data. Fit it first by calling `.fit(numpy_data)`.\n",
            "  warnings.warn('This ImageDataGenerator specifies '\n",
            "/usr/local/lib/python3.6/dist-packages/keras_preprocessing/image/image_data_generator.py:724: UserWarning: This ImageDataGenerator specifies `featurewise_std_normalization`, but it hasn't been fit on any training data. Fit it first by calling `.fit(numpy_data)`.\n",
            "  warnings.warn('This ImageDataGenerator specifies '\n"
          ],
          "name": "stderr"
        },
        {
          "output_type": "stream",
          "text": [
            "\n",
            "Epoch 00001: LearningRateScheduler setting learning rate to 0.009942.\n",
            "2734/2734 [==============================] - 104s 38ms/step - loss: 1.1827 - acc: 0.5677 - val_loss: 0.9040 - val_acc: 0.6777\n",
            "Epoch 2/50\n",
            "\n",
            "Epoch 00002: LearningRateScheduler setting learning rate to 0.0075375284.\n",
            "2734/2734 [==============================] - 97s 36ms/step - loss: 0.8524 - acc: 0.6957 - val_loss: 0.7570 - val_acc: 0.7295\n",
            "Epoch 3/50\n",
            "\n",
            "Epoch 00003: LearningRateScheduler setting learning rate to 0.0060695971.\n",
            "2734/2734 [==============================] - 97s 36ms/step - loss: 0.7584 - acc: 0.7301 - val_loss: 0.7010 - val_acc: 0.7584\n",
            "Epoch 4/50\n",
            "\n",
            "Epoch 00004: LearningRateScheduler setting learning rate to 0.0050802248.\n",
            "2734/2734 [==============================] - 97s 36ms/step - loss: 0.7035 - acc: 0.7502 - val_loss: 0.6872 - val_acc: 0.7596\n",
            "Epoch 5/50\n",
            "\n",
            "Epoch 00005: LearningRateScheduler setting learning rate to 0.0043681898.\n",
            "2734/2734 [==============================] - 97s 35ms/step - loss: 0.6649 - acc: 0.7639 - val_loss: 0.6388 - val_acc: 0.7770\n",
            "Epoch 6/50\n",
            "\n",
            "Epoch 00006: LearningRateScheduler setting learning rate to 0.0038312139.\n",
            "2734/2734 [==============================] - 97s 35ms/step - loss: 0.6366 - acc: 0.7739 - val_loss: 0.6164 - val_acc: 0.7897\n",
            "Epoch 7/50\n",
            "\n",
            "Epoch 00007: LearningRateScheduler setting learning rate to 0.0034118051.\n",
            "2734/2734 [==============================] - 97s 35ms/step - loss: 0.6156 - acc: 0.7816 - val_loss: 0.6057 - val_acc: 0.7927\n",
            "Epoch 8/50\n",
            "\n",
            "Epoch 00008: LearningRateScheduler setting learning rate to 0.0030751624.\n",
            "2734/2734 [==============================] - 97s 35ms/step - loss: 0.5992 - acc: 0.7890 - val_loss: 0.6280 - val_acc: 0.7828\n",
            "Epoch 9/50\n",
            "\n",
            "Epoch 00009: LearningRateScheduler setting learning rate to 0.0027989865.\n",
            "2734/2734 [==============================] - 96s 35ms/step - loss: 0.5862 - acc: 0.7923 - val_loss: 0.5690 - val_acc: 0.8043\n",
            "Epoch 10/50\n",
            "\n",
            "Epoch 00010: LearningRateScheduler setting learning rate to 0.0025683286.\n",
            "2734/2734 [==============================] - 96s 35ms/step - loss: 0.5726 - acc: 0.7975 - val_loss: 0.5834 - val_acc: 0.8022\n",
            "Epoch 11/50\n",
            "\n",
            "Epoch 00011: LearningRateScheduler setting learning rate to 0.0023727924.\n",
            "2734/2734 [==============================] - 96s 35ms/step - loss: 0.5641 - acc: 0.8005 - val_loss: 0.5653 - val_acc: 0.8065\n",
            "Epoch 12/50\n",
            "\n",
            "Epoch 00012: LearningRateScheduler setting learning rate to 0.0022049235.\n",
            "2734/2734 [==============================] - 96s 35ms/step - loss: 0.5544 - acc: 0.8045 - val_loss: 0.5772 - val_acc: 0.8030\n",
            "Epoch 13/50\n",
            "\n",
            "Epoch 00013: LearningRateScheduler setting learning rate to 0.0020592378.\n",
            "2734/2734 [==============================] - 96s 35ms/step - loss: 0.5464 - acc: 0.8073 - val_loss: 0.5655 - val_acc: 0.8093\n",
            "Epoch 14/50\n",
            "\n",
            "Epoch 00014: LearningRateScheduler setting learning rate to 0.0019316106.\n",
            "2734/2734 [==============================] - 96s 35ms/step - loss: 0.5425 - acc: 0.8088 - val_loss: 0.5639 - val_acc: 0.8080\n",
            "Epoch 15/50\n",
            "\n",
            "Epoch 00015: LearningRateScheduler setting learning rate to 0.0018188804.\n",
            "2734/2734 [==============================] - 96s 35ms/step - loss: 0.5338 - acc: 0.8113 - val_loss: 0.5719 - val_acc: 0.8070\n",
            "Epoch 16/50\n",
            "\n",
            "Epoch 00016: LearningRateScheduler setting learning rate to 0.0017185825.\n",
            "2734/2734 [==============================] - 96s 35ms/step - loss: 0.5293 - acc: 0.8134 - val_loss: 0.5713 - val_acc: 0.8078\n",
            "Epoch 17/50\n",
            "\n",
            "Epoch 00017: LearningRateScheduler setting learning rate to 0.001628768.\n",
            "2734/2734 [==============================] - 96s 35ms/step - loss: 0.5249 - acc: 0.8150 - val_loss: 0.5451 - val_acc: 0.8171\n",
            "Epoch 18/50\n",
            "\n",
            "Epoch 00018: LearningRateScheduler setting learning rate to 0.0015478748.\n",
            "2734/2734 [==============================] - 97s 35ms/step - loss: 0.5199 - acc: 0.8169 - val_loss: 0.5494 - val_acc: 0.8133\n",
            "Epoch 19/50\n",
            "\n",
            "Epoch 00019: LearningRateScheduler setting learning rate to 0.0014746366.\n",
            "2734/2734 [==============================] - 97s 35ms/step - loss: 0.5180 - acc: 0.8171 - val_loss: 0.5484 - val_acc: 0.8135\n",
            "Epoch 20/50\n",
            "\n",
            "Epoch 00020: LearningRateScheduler setting learning rate to 0.0014080159.\n",
            "2734/2734 [==============================] - 97s 35ms/step - loss: 0.5118 - acc: 0.8192 - val_loss: 0.5535 - val_acc: 0.8097\n",
            "Epoch 21/50\n",
            "\n",
            "Epoch 00021: LearningRateScheduler setting learning rate to 0.0013471545.\n",
            "2734/2734 [==============================] - 96s 35ms/step - loss: 0.5094 - acc: 0.8207 - val_loss: 0.5557 - val_acc: 0.8131\n",
            "Epoch 22/50\n",
            "\n",
            "Epoch 00022: LearningRateScheduler setting learning rate to 0.0012913365.\n",
            "2734/2734 [==============================] - 96s 35ms/step - loss: 0.5077 - acc: 0.8206 - val_loss: 0.5467 - val_acc: 0.8145\n",
            "Epoch 23/50\n",
            "\n",
            "Epoch 00023: LearningRateScheduler setting learning rate to 0.0012399601.\n",
            "2734/2734 [==============================] - 96s 35ms/step - loss: 0.5028 - acc: 0.8222 - val_loss: 0.5476 - val_acc: 0.8154\n",
            "Epoch 24/50\n",
            "\n",
            "Epoch 00024: LearningRateScheduler setting learning rate to 0.0011925153.\n",
            "2734/2734 [==============================] - 96s 35ms/step - loss: 0.5001 - acc: 0.8237 - val_loss: 0.5571 - val_acc: 0.8129\n",
            "Epoch 25/50\n",
            "\n",
            "Epoch 00025: LearningRateScheduler setting learning rate to 0.0011485675.\n",
            "2734/2734 [==============================] - 96s 35ms/step - loss: 0.4977 - acc: 0.8245 - val_loss: 0.5474 - val_acc: 0.8152\n",
            "Epoch 26/50\n",
            "\n",
            "Epoch 00026: LearningRateScheduler setting learning rate to 0.0011077437.\n",
            "2734/2734 [==============================] - 96s 35ms/step - loss: 0.4958 - acc: 0.8245 - val_loss: 0.5474 - val_acc: 0.8144\n",
            "Epoch 27/50\n",
            "\n",
            "Epoch 00027: LearningRateScheduler setting learning rate to 0.0010697224.\n",
            "2734/2734 [==============================] - 97s 36ms/step - loss: 0.4947 - acc: 0.8258 - val_loss: 0.5386 - val_acc: 0.8178\n",
            "Epoch 28/50\n",
            "\n",
            "Epoch 00028: LearningRateScheduler setting learning rate to 0.0010342245.\n",
            "2734/2734 [==============================] - 98s 36ms/step - loss: 0.4920 - acc: 0.8260 - val_loss: 0.5338 - val_acc: 0.8225\n",
            "Epoch 29/50\n",
            "\n",
            "Epoch 00029: LearningRateScheduler setting learning rate to 0.0010010068.\n",
            "2734/2734 [==============================] - 97s 36ms/step - loss: 0.4898 - acc: 0.8271 - val_loss: 0.5468 - val_acc: 0.8191\n",
            "Epoch 30/50\n",
            "\n",
            "Epoch 00030: LearningRateScheduler setting learning rate to 0.0009698566.\n",
            "2734/2734 [==============================] - 97s 36ms/step - loss: 0.4881 - acc: 0.8275 - val_loss: 0.5476 - val_acc: 0.8164\n",
            "Epoch 31/50\n",
            "\n",
            "Epoch 00031: LearningRateScheduler setting learning rate to 0.0009405866.\n",
            "2734/2734 [==============================] - 97s 36ms/step - loss: 0.4876 - acc: 0.8281 - val_loss: 0.5551 - val_acc: 0.8167\n",
            "Epoch 32/50\n",
            "\n",
            "Epoch 00032: LearningRateScheduler setting learning rate to 0.0009130315.\n",
            "2734/2734 [==============================] - 97s 35ms/step - loss: 0.4853 - acc: 0.8290 - val_loss: 0.5539 - val_acc: 0.8177\n",
            "Epoch 33/50\n",
            "\n",
            "Epoch 00033: LearningRateScheduler setting learning rate to 0.000887045.\n",
            "2734/2734 [==============================] - 97s 35ms/step - loss: 0.4858 - acc: 0.8289 - val_loss: 0.5362 - val_acc: 0.8208\n",
            "Epoch 34/50\n",
            "\n",
            "Epoch 00034: LearningRateScheduler setting learning rate to 0.0008624967.\n",
            "2734/2734 [==============================] - 96s 35ms/step - loss: 0.4796 - acc: 0.8309 - val_loss: 0.5413 - val_acc: 0.8174\n",
            "Epoch 35/50\n",
            "\n",
            "Epoch 00035: LearningRateScheduler setting learning rate to 0.0008392706.\n",
            "2734/2734 [==============================] - 95s 35ms/step - loss: 0.4796 - acc: 0.8303 - val_loss: 0.5415 - val_acc: 0.8188\n",
            "Epoch 36/50\n",
            "\n",
            "Epoch 00036: LearningRateScheduler setting learning rate to 0.0008172626.\n",
            "2734/2734 [==============================] - 95s 35ms/step - loss: 0.4804 - acc: 0.8305 - val_loss: 0.5329 - val_acc: 0.8219\n",
            "Epoch 37/50\n",
            "\n",
            "Epoch 00037: LearningRateScheduler setting learning rate to 0.0007963794.\n",
            "2734/2734 [==============================] - 95s 35ms/step - loss: 0.4769 - acc: 0.8313 - val_loss: 0.5342 - val_acc: 0.8201\n",
            "Epoch 38/50\n",
            "\n",
            "Epoch 00038: LearningRateScheduler setting learning rate to 0.0007765367.\n",
            "2734/2734 [==============================] - 99s 36ms/step - loss: 0.4756 - acc: 0.8315 - val_loss: 0.5429 - val_acc: 0.8169\n",
            "Epoch 39/50\n",
            "\n",
            "Epoch 00039: LearningRateScheduler setting learning rate to 0.0007576589.\n",
            "2734/2734 [==============================] - 99s 36ms/step - loss: 0.4763 - acc: 0.8323 - val_loss: 0.5340 - val_acc: 0.8211\n",
            "Epoch 40/50\n",
            "\n",
            "Epoch 00040: LearningRateScheduler setting learning rate to 0.0007396771.\n",
            "2734/2734 [==============================] - 98s 36ms/step - loss: 0.4744 - acc: 0.8319 - val_loss: 0.5303 - val_acc: 0.8244\n",
            "Epoch 41/50\n",
            "\n",
            "Epoch 00041: LearningRateScheduler setting learning rate to 0.0007225291.\n",
            "2734/2734 [==============================] - 102s 37ms/step - loss: 0.4749 - acc: 0.8329 - val_loss: 0.5370 - val_acc: 0.8199\n",
            "Epoch 42/50\n",
            "\n",
            "Epoch 00042: LearningRateScheduler setting learning rate to 0.0007061581.\n",
            "2734/2734 [==============================] - 97s 35ms/step - loss: 0.4704 - acc: 0.8336 - val_loss: 0.5308 - val_acc: 0.8219\n",
            "Epoch 43/50\n",
            "\n",
            "Epoch 00043: LearningRateScheduler setting learning rate to 0.0006905126.\n",
            "2734/2734 [==============================] - 95s 35ms/step - loss: 0.4717 - acc: 0.8333 - val_loss: 0.5326 - val_acc: 0.8222\n",
            "Epoch 44/50\n",
            "\n",
            "Epoch 00044: LearningRateScheduler setting learning rate to 0.0006755453.\n",
            "2734/2734 [==============================] - 99s 36ms/step - loss: 0.4708 - acc: 0.8335 - val_loss: 0.5344 - val_acc: 0.8243\n",
            "Epoch 45/50\n",
            "\n",
            "Epoch 00045: LearningRateScheduler setting learning rate to 0.0006612131.\n",
            "2734/2734 [==============================] - 99s 36ms/step - loss: 0.4686 - acc: 0.8337 - val_loss: 0.5491 - val_acc: 0.8189\n",
            "Epoch 46/50\n",
            "\n",
            "Epoch 00046: LearningRateScheduler setting learning rate to 0.0006474764.\n",
            "2734/2734 [==============================] - 99s 36ms/step - loss: 0.4683 - acc: 0.8345 - val_loss: 0.5261 - val_acc: 0.8230\n",
            "Epoch 47/50\n",
            "\n",
            "Epoch 00047: LearningRateScheduler setting learning rate to 0.0006342988.\n",
            "2734/2734 [==============================] - 96s 35ms/step - loss: 0.4682 - acc: 0.8349 - val_loss: 0.5341 - val_acc: 0.8239\n",
            "Epoch 48/50\n",
            "\n",
            "Epoch 00048: LearningRateScheduler setting learning rate to 0.000621647.\n",
            "2734/2734 [==============================] - 95s 35ms/step - loss: 0.4689 - acc: 0.8345 - val_loss: 0.5319 - val_acc: 0.8237\n",
            "Epoch 49/50\n",
            "\n",
            "Epoch 00049: LearningRateScheduler setting learning rate to 0.0006094899.\n",
            "2734/2734 [==============================] - 96s 35ms/step - loss: 0.4655 - acc: 0.8352 - val_loss: 0.5339 - val_acc: 0.8224\n",
            "Epoch 50/50\n",
            "\n",
            "Epoch 00050: LearningRateScheduler setting learning rate to 0.0005977993.\n",
            "2734/2734 [==============================] - 96s 35ms/step - loss: 0.4662 - acc: 0.8355 - val_loss: 0.5235 - val_acc: 0.8269\n",
            "Model took 4846.84 seconds to train\n"
          ],
          "name": "stdout"
        },
        {
          "output_type": "display_data",
          "data": {
            "image/png": "[encoded data removed]",
            "text/plain": [
              "<Figure size 1080x360 with 2 Axes>"
            ]
          },
          "metadata": {
            "tags": []
          }
        },
        {
          "output_type": "stream",
          "text": [
            "Accuracy on test data is: 82.69\n"
          ],
          "name": "stdout"
        }
      ]
    },
    {
      "cell_type": "markdown",
      "metadata": {
        "id": "eaX58gLaHOpx",
        "colab_type": "text"
      },
      "source": [
        ""
      ]
    }
  ]
}